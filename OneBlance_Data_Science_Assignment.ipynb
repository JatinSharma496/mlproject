{
  "cells": [
    {
      "cell_type": "markdown",
      "metadata": {
        "id": "view-in-github",
        "colab_type": "text"
      },
      "source": [
        "<a href=\"https://colab.research.google.com/github/JatinSharma496/mlproject/blob/main/OneBlance_Data_Science_Assignment.ipynb\" target=\"_parent\"><img src=\"https://colab.research.google.com/assets/colab-badge.svg\" alt=\"Open In Colab\"/></a>"
      ]
    },
    {
      "cell_type": "markdown",
      "source": [
        "**OneBlanc Assigment**\n"
      ],
      "metadata": {
        "id": "GWUyoi4OduLT"
      }
    },
    {
      "cell_type": "markdown",
      "source": [
        "***MPIN Strength Checker Notebook***\n",
        "\n",
        "\n",
        "This notebook walks through the process of building and testing an MPIN strength checker based on the assignment requirements.\n",
        "\n",
        "\n",
        "\n",
        "\n"
      ],
      "metadata": {
        "id": "Sp5noghrcwK2"
      }
    },
    {
      "cell_type": "markdown",
      "source": [
        "**OneBlanc Assigment**\n"
      ],
      "metadata": {
        "id": "dw4n4qlDdi1I"
      }
    },
    {
      "cell_type": "code",
      "source": [
        "config = {\n",
        "    \"COMMONLY_USED_MPINS_4\": [\n",
        "        \"1234\", \"0000\", \"1111\", \"2222\", \"3333\", \"4444\", \"5555\", \"6666\",\n",
        "        \"7777\", \"8888\", \"9999\", \"1122\", \"1212\", \"1313\", \"6969\", \"4321\",\n",
        "        \"1004\", \"2000\", \"2580\", \"0987\", \"1010\"\n",
        "    ],\n",
        "    \"COMMONLY_USED_MPINS_6\": [\n",
        "        \"123456\", \"000000\", \"111111\", \"654321\", \"121212\", \"112233\",\n",
        "        \"999999\", \"159753\", \"123123\", \"789456\", \"101010\", \"123321\",\n",
        "        \"456789\", \"121314\", \"111222\", \"314159\", \"777777\", \"010101\"\n",
        "    ]\n",
        "}\n",
        "\n",
        "print(\"Configuration loaded successfully.\")\n"
      ],
      "metadata": {
        "id": "0AV_Wxw0cOrz",
        "colab": {
          "base_uri": "https://localhost:8080/"
        },
        "outputId": "6cf44e63-9008-4224-bfdf-69fba462fa06"
      },
      "execution_count": 2,
      "outputs": [
        {
          "output_type": "stream",
          "name": "stdout",
          "text": [
            "Configuration loaded successfully.\n"
          ]
        }
      ]
    },
    {
      "cell_type": "code",
      "source": [
        "\n",
        "class MPINStrengthChecker:\n",
        "    \"\"\"\n",
        "    A class to check the strength of a 4 or 6-digit MPIN based on common patterns\n",
        "    and personal demographic data.\n",
        "    \"\"\"\n",
        "\n",
        "    def __init__(self, common_pins_config):\n",
        "        \"\"\"Initializes the checker with sets of commonly used MPINs.\"\"\"\n",
        "        self.common_pins_4 = set(common_pins_config.get(\"COMMONLY_USED_MPINS_4\", []))\n",
        "        self.common_pins_6 = set(common_pins_config.get(\"COMMONLY_USED_MPINS_6\", []))\n",
        "        print(\"MPINStrengthChecker initialized.\")\n",
        "\n",
        "    def is_commonly_used(self, mpin):\n",
        "        \"\"\"Public method to check if the MPIN is commonly used (Part A).\"\"\"\n",
        "        if len(mpin) == 4:\n",
        "            return mpin in self.common_pins_4\n",
        "        elif len(mpin) == 6:\n",
        "            return mpin in self.common_pins_6\n",
        "        return False\n",
        "\n",
        "    def _extract_date_combinations(self, date_str):\n",
        "        \"\"\"Extracts various 4 and 6-digit combinations from a date string (DD-MM-YYYY).\"\"\"\n",
        "        if not date_str or len(date_str.split('-')) != 3:\n",
        "            return set()\n",
        "        try:\n",
        "            day, month, year = date_str.split('-')\n",
        "            if len(day) != 2 or len(month) != 2 or len(year) != 4: return set()\n",
        "            year_short = year[2:]\n",
        "        except (ValueError, IndexError):\n",
        "            return set()\n",
        "\n",
        "        combinations = {\n",
        "            # 4-Digit\n",
        "            day + month, month + day, day + year_short, year_short + day,\n",
        "            month + year_short, year_short + month, day * 2, month * 2, year_short * 2,\n",
        "            # 6-Digit\n",
        "            day + month + year_short, day + year_short + month, month + day + year_short,\n",
        "            month + year_short + day, year_short + day + month, year_short + month + day\n",
        "        }\n",
        "        return combinations\n",
        "\n",
        "    def check_strength_with_reasons(self, mpin, dob_self=None, dob_spouse=None, anniversary=None):\n",
        "        \"\"\"Analyzes MPIN strength and provides reasons if weak (Parts B, C, D).\"\"\"\n",
        "        if not isinstance(mpin, str) or not mpin.isdigit() or len(mpin) not in [4, 6]:\n",
        "            return \"INVALID_LENGTH\", []\n",
        "\n",
        "        reasons = []\n",
        "        if self.is_commonly_used(mpin):\n",
        "            reasons.append(\"COMMONLY_USED\")\n",
        "\n",
        "        demographic_map = {\n",
        "            \"DEMOGRAPHIC_DOB_SELF\": dob_self,\n",
        "            \"DEMOGRAPHIC_DOB_SPOUSE\": dob_spouse,\n",
        "            \"DEMOGRAPHIC_ANNIVERSARY\": anniversary\n",
        "        }\n",
        "        for reason_code, date_str in demographic_map.items():\n",
        "            if date_str and mpin in self._extract_date_combinations(date_str):\n",
        "                reasons.append(reason_code)\n",
        "\n",
        "        if reasons:\n",
        "            return \"WEAK\", sorted(list(set(reasons)))\n",
        "        return \"STRONG\", []\n",
        "\n",
        "# Instantiate the checker\n",
        "mpin_checker = MPINStrengthChecker(config)\n"
      ],
      "metadata": {
        "id": "0ctbtYP3dFGZ",
        "colab": {
          "base_uri": "https://localhost:8080/"
        },
        "outputId": "d8f65050-362c-4200-96c0-539576bbf622"
      },
      "execution_count": 6,
      "outputs": [
        {
          "output_type": "stream",
          "name": "stdout",
          "text": [
            "MPINStrengthChecker initialized.\n"
          ]
        }
      ]
    },
    {
      "cell_type": "code",
      "source": [
        "print(\"======================================================\")\n",
        "print(\"         MPIN Strength Checker Demonstrations         \")\n",
        "print(\"======================================================\")\n",
        "\n",
        "# --- Part A: Suggest if a 4-digit MPIN is commonly used ---\n",
        "print(\"\\n--- Part A: Common 4-Digit PIN Check ---\")\n",
        "for pin in [\"1111\", \"5432\"]:\n",
        "    is_common = mpin_checker.is_commonly_used(pin)\n",
        "    print(f\"Is '{pin}' common? {'Yes, weak.' if is_common else 'No.'}\")\n",
        "\n",
        "# --- Part B: Basic Strength (WEAK/STRONG) with Demographics ---\n",
        "print(\"\\n--- Part B: Basic Strength Check (WEAK/STRONG) ---\")\n",
        "strength, _ = mpin_checker.check_strength_with_reasons(\"0201\", dob_self=\"02-01-1998\")\n",
        "print(f\"PIN '0201' vs DOB '02-01-1998'. Strength: {strength}\")\n",
        "strength, _ = mpin_checker.check_strength_with_reasons(\"9876\", dob_self=\"02-01-1998\")\n",
        "print(f\"PIN '9876' vs DOB '02-01-1998'. Strength: {strength}\")\n",
        "\n",
        "# --- Part C & D: Strength with Reasons (4 & 6-Digit) ---\n",
        "print(\"\\n--- Part C & D: Strength Check with Reasons ---\")\n",
        "# Part C (4-digit)\n",
        "s, r = mpin_checker.check_strength_with_reasons(\"1212\", dob_self=\"12-12-2000\")\n",
        "print(f\"Part C -> PIN '1212' -> Strength: {s}, Reasons: {r}\")\n",
        "# Part D (6-digit)\n",
        "s, r = mpin_checker.check_strength_with_reasons(\"150815\", anniversary=\"15-08-2015\")\n",
        "print(f\"Part D -> PIN '150815' -> Strength: {s}, Reasons: {r}\")\n"
      ],
      "metadata": {
        "id": "gpXqJuGYdJ_Z",
        "colab": {
          "base_uri": "https://localhost:8080/"
        },
        "outputId": "51484dd0-3b9a-40ab-82b4-e622a2ed3681"
      },
      "execution_count": 7,
      "outputs": [
        {
          "output_type": "stream",
          "name": "stdout",
          "text": [
            "======================================================\n",
            "         MPIN Strength Checker Demonstrations         \n",
            "======================================================\n",
            "\n",
            "--- Part A: Common 4-Digit PIN Check ---\n",
            "Is '1111' common? Yes, weak.\n",
            "Is '5432' common? No.\n",
            "\n",
            "--- Part B: Basic Strength Check (WEAK/STRONG) ---\n",
            "PIN '0201' vs DOB '02-01-1998'. Strength: WEAK\n",
            "PIN '9876' vs DOB '02-01-1998'. Strength: STRONG\n",
            "\n",
            "--- Part C & D: Strength Check with Reasons ---\n",
            "Part C -> PIN '1212' -> Strength: WEAK, Reasons: ['COMMONLY_USED', 'DEMOGRAPHIC_DOB_SELF']\n",
            "Part D -> PIN '150815' -> Strength: WEAK, Reasons: ['DEMOGRAPHIC_ANNIVERSARY']\n"
          ]
        }
      ]
    },
    {
      "cell_type": "code",
      "source": [
        "def run_tests(checker):\n",
        "    print(\"\\n\\n======================================================\")\n",
        "\n",
        "    print(\"======================================================\")\n",
        "    test_cases = [\n",
        "        {\"pin\": \"1234\", \"expected_strength\": \"WEAK\", \"expected_reasons\": [\"COMMONLY_USED\"]},\n",
        "        {\"pin\": \"123456\", \"expected_strength\": \"WEAK\", \"expected_reasons\": [\"COMMONLY_USED\"]},\n",
        "        {\"pin\": \"0201\", \"dob_self\": \"02-01-1998\", \"expected_strength\": \"WEAK\", \"expected_reasons\": [\"DEMOGRAPHIC_DOB_SELF\"]},\n",
        "        {\"pin\": \"020198\", \"dob_self\": \"02-01-1998\", \"expected_strength\": \"WEAK\", \"expected_reasons\": [\"DEMOGRAPHIC_DOB_SELF\"]},\n",
        "        {\"pin\": \"2512\", \"dob_spouse\": \"25-12-1990\", \"expected_strength\": \"WEAK\", \"expected_reasons\": [\"DEMOGRAPHIC_DOB_SPOUSE\"]},\n",
        "        {\"pin\": \"150815\", \"anniversary\": \"15-08-2015\", \"expected_strength\": \"WEAK\", \"expected_reasons\": [\"DEMOGRAPHIC_ANNIVERSARY\"]},\n",
        "        {\"pin\": \"1212\", \"dob_self\": \"12-12-2000\", \"expected_strength\": \"WEAK\", \"expected_reasons\": [\"COMMONLY_USED\", \"DEMOGRAPHIC_DOB_SELF\"]},\n",
        "        {\"pin\": \"1005\", \"dob_self\": \"10-05-1985\", \"anniversary\": \"10-05-2010\", \"expected_strength\": \"WEAK\", \"expected_reasons\": [\"DEMOGRAPHIC_ANNIVERSARY\", \"DEMOGRAPHIC_DOB_SELF\"]},\n",
        "        {\"pin\": \"123\", \"expected_strength\": \"INVALID_LENGTH\", \"expected_reasons\": []},\n",
        "        {\"pin\": \"9845\", \"dob_self\": \"01-01-1990\", \"expected_strength\": \"STRONG\", \"expected_reasons\": []},\n",
        "        {\"pin\": \"736418\", \"expected_strength\": \"STRONG\", \"expected_reasons\": []},\n",
        "    ] # Abridged for brevity\n",
        "\n",
        "    passed_count = 0\n",
        "    for i, test in enumerate(test_cases, 1):\n",
        "        strength, reasons = checker.check_strength_with_reasons(\n",
        "            test.get(\"pin\"), test.get(\"dob_self\"), test.get(\"dob_spouse\"), test.get(\"anniversary\")\n",
        "        )\n",
        "        expected_reasons = sorted(test.get(\"expected_reasons\", []))\n",
        "        if strength == test.get(\"expected_strength\") and reasons == expected_reasons:\n",
        "            status = \"✅ Passed\"\n",
        "            passed_count += 1\n",
        "        else:\n",
        "            status = f\"❌ Failed\"\n",
        "            print(f\"\\nTest #{i}: PIN='{test.get('pin')}' -> {status}\")\n",
        "            print(f\"  -> Expected: {test.get('expected_strength')}, {expected_reasons}\")\n",
        "            print(f\"  -> Got:      {strength}, {reasons}\")\n",
        "\n",
        "    print(\"\\n--- Test Summary ---\")\n",
        "    print(f\"Total Tests: {len(test_cases)}\")\n",
        "    print(f\"Passed:      {passed_count}\")\n",
        "    print(f\"Failed:      {len(test_cases) - passed_count}\")\n",
        "    print(\"--------------------\")\n",
        "\n",
        "# Assuming mpin_checker is instantiated from the previous cell\n",
        "run_tests(mpin_checker)\n"
      ],
      "metadata": {
        "colab": {
          "base_uri": "https://localhost:8080/"
        },
        "id": "h6OiwTMBdaWP",
        "outputId": "7699be58-6103-46f7-a2a4-32789ab6d8ec"
      },
      "execution_count": 9,
      "outputs": [
        {
          "output_type": "stream",
          "name": "stdout",
          "text": [
            "\n",
            "\n",
            "======================================================\n",
            "======================================================\n",
            "\n",
            "--- Test Summary ---\n",
            "Total Tests: 11\n",
            "Passed:      11\n",
            "Failed:      0\n",
            "--------------------\n"
          ]
        }
      ]
    },
    {
      "cell_type": "markdown",
      "source": [],
      "metadata": {
        "id": "RUBTYn4Edhxb"
      }
    }
  ],
  "metadata": {
    "colab": {
      "provenance": [],
      "include_colab_link": true
    },
    "kernelspec": {
      "display_name": "Python 3",
      "name": "python3"
    }
  },
  "nbformat": 4,
  "nbformat_minor": 0
}