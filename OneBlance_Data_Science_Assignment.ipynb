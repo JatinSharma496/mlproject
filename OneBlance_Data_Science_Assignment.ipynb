{
  "cells": [
    {
      "cell_type": "markdown",
      "metadata": {
        "id": "view-in-github",
        "colab_type": "text"
      },
      "source": [
        "<a href=\"https://colab.research.google.com/github/JatinSharma496/mlproject/blob/main/OneBlance_Data_Science_Assignment.ipynb\" target=\"_parent\"><img src=\"https://colab.research.google.com/assets/colab-badge.svg\" alt=\"Open In Colab\"/></a>"
      ]
    },
    {
      "cell_type": "markdown",
      "source": [
        "**OneBlanc Data Science Assigment 221B467 Jatin Sharma**\n"
      ],
      "metadata": {
        "id": "GWUyoi4OduLT"
      }
    },
    {
      "cell_type": "markdown",
      "source": [
        "***MPIN Strength Checker Notebook***\n",
        "\n",
        "\n",
        "This notebook walks through the process of building and testing an MPIN strength checker based on the assignment requirements.\n",
        "\n",
        "\n",
        "\n",
        "\n"
      ],
      "metadata": {
        "id": "Sp5noghrcwK2"
      }
    },
    {
      "cell_type": "markdown",
      "source": [
        "**OneBlanc Assigment**\n"
      ],
      "metadata": {
        "id": "dw4n4qlDdi1I"
      }
    },
    {
      "cell_type": "code",
      "source": [
        "class TestCase:\n",
        "    def __init__(self, description, pin, expected_strength, expected_reasons,\n",
        "                 dob_self=None, dob_spouse=None, anniversary=None):\n",
        "        self.description = description\n",
        "        self.pin = pin\n",
        "        self.expected_strength = expected_strength\n",
        "        # We sort the reasons to ensure consistent comparison later\n",
        "        self.expected_reasons = sorted(expected_reasons)\n",
        "        self.dob_self = dob_self\n",
        "        self.dob_spouse = dob_spouse\n",
        "        self.anniversary = anniversary\n"
      ],
      "metadata": {
        "id": "0AV_Wxw0cOrz"
      },
      "execution_count": 10,
      "outputs": []
    },
    {
      "cell_type": "code",
      "source": [
        "\n",
        "class TestRunner:\n",
        "    def __init__(self, checker_instance):\n",
        "        self.checker = checker_instance\n",
        "        self.passed_count = 0\n",
        "        self.failed_count = 0\n",
        "\n",
        "    def run(self, test_cases):\n",
        "        \"\"\"\n",
        "        Runs a list of TestCase objects against the checker.\n",
        "        \"\"\"\n",
        "        print(\"\\n\\n======================================================\")\n",
        "        print(\"      Part E: Running the OOP-based Test Suite      \")\n",
        "        print(\"======================================================\")\n",
        "\n",
        "        total_tests = len(test_cases)\n",
        "        for i, test_case in enumerate(test_cases, 1):\n",
        "            # Run the actual check using the checker instance\n",
        "            strength, reasons = self.checker.check_strength_with_reasons(\n",
        "                test_case.pin,\n",
        "                test_case.dob_self,\n",
        "                test_case.dob_spouse,\n",
        "                test_case.anniversary\n",
        "            )\n",
        "\n",
        "            # Check if the result matches what the TestCase expected\n",
        "            is_pass = (strength == test_case.expected_strength and\n",
        "                       reasons == test_case.expected_reasons)\n",
        "\n",
        "            # Print the results for this specific test\n",
        "            print(f\"\\n--- Test {i}/{total_tests}: {test_case.description} ('{test_case.pin}') ---\")\n",
        "            if is_pass:\n",
        "                print(\"  ✅ Result: Passed!\")\n",
        "                self.passed_count += 1\n",
        "            else:\n",
        "                print(f\"  ❌ Result: Failed!\")\n",
        "                print(f\"     - Expected: {test_case.expected_strength}, Reasons: {test_case.expected_reasons}\")\n",
        "                print(f\"     - Got:      {strength}, Reasons: {reasons}\")\n",
        "                self.failed_count += 1\n",
        "\n",
        "    def print_summary(self):\n",
        "        \"\"\"Prints a final summary of the test run.\"\"\"\n",
        "        print(\"\\n\\n--------------------\")\n",
        "        print(\"  Test Run Summary  \")\n",
        "        print(\"--------------------\")\n",
        "        print(f\"  Total Scenarios: {self.passed_count + self.failed_count}\")\n",
        "        print(f\"  Passed: {self.passed_count}\")\n",
        "        print(f\"  Failed: {self.failed_count}\")\n",
        "        print(\"--------------------\")\n"
      ],
      "metadata": {
        "id": "0ctbtYP3dFGZ"
      },
      "execution_count": 11,
      "outputs": []
    },
    {
      "cell_type": "code",
      "source": [
        "all_tests = [\n",
        "    # Group 1: Common PINs\n",
        "    TestCase(\"Sequential PIN\", pin=\"1234\", expected_strength=\"WEAK\", expected_reasons=[\"COMMONLY_USED\"]),\n",
        "    TestCase(\"Repeated pairs\", pin=\"1122\", expected_strength=\"WEAK\", expected_reasons=[\"COMMONLY_USED\"]),\n",
        "    TestCase(\"Sequential 6-digit\", pin=\"123456\", expected_strength=\"WEAK\", expected_reasons=[\"COMMONLY_USED\"]),\n",
        "\n",
        "    # Group 2: Demographic PINs\n",
        "    TestCase(\"Day-Month from DOB\", pin=\"0201\", dob_self=\"02-01-1998\", expected_strength=\"WEAK\", expected_reasons=[\"DEMOGRAPHIC_DOB_SELF\"]),\n",
        "    TestCase(\"Full DDMMYY from DOB\", pin=\"020198\", dob_self=\"02-01-1998\", expected_strength=\"WEAK\", expected_reasons=[\"DEMOGRAPHIC_DOB_SELF\"]),\n",
        "    TestCase(\"Spouse's DDMMYY\", pin=\"251290\", dob_spouse=\"25-12-1990\", expected_strength=\"WEAK\", expected_reasons=[\"DEMOGRAPHIC_DOB_SPOUSE\"]),\n",
        "    TestCase(\"Anniversary DDMMYY\", pin=\"150815\", anniversary=\"15-08-2015\", expected_strength=\"WEAK\", expected_reasons=[\"DEMOGRAPHIC_ANNIVERSARY\"]),\n",
        "\n",
        "    # Group 3: Weak for multiple reasons\n",
        "    TestCase(\"Common and from DOB\", pin=\"1212\", dob_self=\"12-12-2000\", expected_strength=\"WEAK\", expected_reasons=[\"COMMONLY_USED\", \"DEMOGRAPHIC_DOB_SELF\"]),\n",
        "    TestCase(\"From two dates\", pin=\"1005\", dob_self=\"10-05-1985\", anniversary=\"10-05-2010\", expected_strength=\"WEAK\", expected_reasons=[\"DEMOGRAPHIC_ANNIVERSARY\", \"DEMOGRAPHIC_DOB_SELF\"]),\n",
        "\n",
        "    # Group 4: Invalid PINs\n",
        "    TestCase(\"Too short\", pin=\"123\", expected_strength=\"INVALID_LENGTH\", expected_reasons=[]),\n",
        "    TestCase(\"Not a number\", pin=\"abc\", expected_strength=\"INVALID_LENGTH\", expected_reasons=[]),\n",
        "\n",
        "    # Group 5: Strong PINs\n",
        "    TestCase(\"Strong 4-digit\", pin=\"9845\", dob_self=\"01-01-1990\", expected_strength=\"STRONG\", expected_reasons=[]),\n",
        "    TestCase(\"Strong 6-digit\", pin=\"736418\", expected_strength=\"STRONG\", expected_reasons=[]),\n",
        "]"
      ],
      "metadata": {
        "id": "gpXqJuGYdJ_Z"
      },
      "execution_count": 12,
      "outputs": []
    },
    {
      "cell_type": "code",
      "source": [
        "\n",
        "test_runner = TestRunner(mpin_checker)\n",
        "test_runner.run(all_tests)\n",
        "test_runner.print_summary()"
      ],
      "metadata": {
        "colab": {
          "base_uri": "https://localhost:8080/"
        },
        "id": "h6OiwTMBdaWP",
        "outputId": "3309b45e-5db2-4204-a316-62dd25c2db2c"
      },
      "execution_count": 13,
      "outputs": [
        {
          "output_type": "stream",
          "name": "stdout",
          "text": [
            "\n",
            "\n",
            "======================================================\n",
            "      Part E: Running the OOP-based Test Suite      \n",
            "======================================================\n",
            "\n",
            "--- Test 1/13: Sequential PIN ('1234') ---\n",
            "  ✅ Result: Passed!\n",
            "\n",
            "--- Test 2/13: Repeated pairs ('1122') ---\n",
            "  ✅ Result: Passed!\n",
            "\n",
            "--- Test 3/13: Sequential 6-digit ('123456') ---\n",
            "  ✅ Result: Passed!\n",
            "\n",
            "--- Test 4/13: Day-Month from DOB ('0201') ---\n",
            "  ✅ Result: Passed!\n",
            "\n",
            "--- Test 5/13: Full DDMMYY from DOB ('020198') ---\n",
            "  ✅ Result: Passed!\n",
            "\n",
            "--- Test 6/13: Spouse's DDMMYY ('251290') ---\n",
            "  ✅ Result: Passed!\n",
            "\n",
            "--- Test 7/13: Anniversary DDMMYY ('150815') ---\n",
            "  ✅ Result: Passed!\n",
            "\n",
            "--- Test 8/13: Common and from DOB ('1212') ---\n",
            "  ✅ Result: Passed!\n",
            "\n",
            "--- Test 9/13: From two dates ('1005') ---\n",
            "  ✅ Result: Passed!\n",
            "\n",
            "--- Test 10/13: Too short ('123') ---\n",
            "  ✅ Result: Passed!\n",
            "\n",
            "--- Test 11/13: Not a number ('abc') ---\n",
            "  ✅ Result: Passed!\n",
            "\n",
            "--- Test 12/13: Strong 4-digit ('9845') ---\n",
            "  ✅ Result: Passed!\n",
            "\n",
            "--- Test 13/13: Strong 6-digit ('736418') ---\n",
            "  ✅ Result: Passed!\n",
            "\n",
            "\n",
            "--------------------\n",
            "  Test Run Summary  \n",
            "--------------------\n",
            "  Total Scenarios: 13\n",
            "  Passed: 13\n",
            "  Failed: 0\n",
            "--------------------\n"
          ]
        }
      ]
    },
    {
      "cell_type": "markdown",
      "source": [],
      "metadata": {
        "id": "RUBTYn4Edhxb"
      }
    }
  ],
  "metadata": {
    "colab": {
      "provenance": [],
      "include_colab_link": true
    },
    "kernelspec": {
      "display_name": "Python 3",
      "name": "python3"
    }
  },
  "nbformat": 4,
  "nbformat_minor": 0
}